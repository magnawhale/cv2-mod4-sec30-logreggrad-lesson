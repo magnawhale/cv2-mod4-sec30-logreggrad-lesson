{
 "cells": [
  {
   "cell_type": "markdown",
   "metadata": {},
   "source": [
    "### Questions\n",
    "\n",
    "- explain gradient descent in logisitic regression\n",
    "    - what is the purpose of gradient descent? \n",
    "        - find a best fit set of parameters that minimizes the cost/loss function\n",
    "            - $$ \\ln(L) = \\ln((y - y_{hat})^2) $$\n",
    "        - starting at some set of Beta parameters\n",
    "        - calculate the gradient at that point, then adjust Beta parameters accordingly\n",
    "        - Beta parameters are adjusted by\n",
    "            - $B_{new}$ = $B_{old} - \\alpha * G(B)$\n",
    "\n",
    "    - how is it different in logistic regression?\n",
    "        - the cost function is different because it's a log-loss function, because y_hat is a sigmoid\n",
    "\n",
    "    - what are important hyperparameters of gradient descent?\n",
    "        - learning rate (alpha)\n",
    "        - number of iterations\n",
    "        - cost function (log loss, RSS, RMSE, etc.)\n",
    "        - tolerance \n",
    "        - regularization parameters\n",
    "            - L1 - Lasso\n",
    "            - L2 - Ridge\n",
    "    - what is/are another example of a sigmoid function?\n",
    "        - tanh(x)\n",
    "        - erf\n"
   ]
  },
  {
   "cell_type": "markdown",
   "metadata": {},
   "source": [
    "### Objectives\n",
    "YWBAT\n",
    "- explain gradient descent in logistic regression\n",
    "- iterate through models to solve a problem"
   ]
  },
  {
   "cell_type": "markdown",
   "metadata": {},
   "source": [
    "### Outline"
   ]
  },
  {
   "cell_type": "code",
   "execution_count": 1,
   "metadata": {},
   "outputs": [],
   "source": [
    "import pandas as pd\n",
    "import numpy as np\n",
    "\n",
    "from sklearn.datasets import load_breast_cancer\n",
    "from sklearn.feature_selection import SelectKBest\n",
    "from sklearn.mode\n",
    "\n",
    "\n",
    "import matplotlib.pyplot as plt"
   ]
  },
  {
   "cell_type": "markdown",
   "metadata": {},
   "source": [
    "### Assessment"
   ]
  }
 ],
 "metadata": {
  "kernelspec": {
   "display_name": "Python 3",
   "language": "python",
   "name": "python3"
  },
  "language_info": {
   "codemirror_mode": {
    "name": "ipython",
    "version": 3
   },
   "file_extension": ".py",
   "mimetype": "text/x-python",
   "name": "python",
   "nbconvert_exporter": "python",
   "pygments_lexer": "ipython3",
   "version": "3.6.6"
  }
 },
 "nbformat": 4,
 "nbformat_minor": 2
}
